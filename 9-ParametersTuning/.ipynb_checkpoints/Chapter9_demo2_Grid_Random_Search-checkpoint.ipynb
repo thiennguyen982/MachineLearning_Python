{
 "cells": [
  {
   "cell_type": "markdown",
   "metadata": {
    "colab_type": "text",
    "id": "zaOxmFQFUv8D"
   },
   "source": [
    "# Chapter 9: Demo GridSearchCV & RandomSearch"
   ]
  },
  {
   "cell_type": "code",
   "execution_count": null,
   "metadata": {
    "colab": {},
    "colab_type": "code",
    "id": "Bt4EfbVmUv8G"
   },
   "outputs": [],
   "source": [
    "# Import scikit-learn dataset library\n",
    "from sklearn import datasets\n",
    "\n",
    "# Load dataset\n",
    "iris = datasets.load_iris()"
   ]
  },
  {
   "cell_type": "code",
   "execution_count": null,
   "metadata": {
    "colab": {
     "base_uri": "https://localhost:8080/",
     "height": 34
    },
    "colab_type": "code",
    "executionInfo": {
     "elapsed": 1344,
     "status": "ok",
     "timestamp": 1590114769366,
     "user": {
      "displayName": "Phuong Khuat Thuy",
      "photoUrl": "",
      "userId": "16807426118474640783"
     },
     "user_tz": -420
    },
    "id": "lsdOoCAyUv8K",
    "outputId": "b15ccdaf-4c3f-45e9-c12c-4afcc4bf357d"
   },
   "outputs": [],
   "source": [
    "type(iris)"
   ]
  },
  {
   "cell_type": "code",
   "execution_count": null,
   "metadata": {
    "colab": {
     "base_uri": "https://localhost:8080/",
     "height": 51
    },
    "colab_type": "code",
    "executionInfo": {
     "elapsed": 1337,
     "status": "ok",
     "timestamp": 1590114769367,
     "user": {
      "displayName": "Phuong Khuat Thuy",
      "photoUrl": "",
      "userId": "16807426118474640783"
     },
     "user_tz": -420
    },
    "id": "ydQjVwvXUv8N",
    "outputId": "c202eabe-0085-4d45-a32e-102d7fd80883"
   },
   "outputs": [],
   "source": [
    "# print the label species(setosa, versicolor,virginica)\n",
    "print(iris.target_names)"
   ]
  },
  {
   "cell_type": "code",
   "execution_count": null,
   "metadata": {},
   "outputs": [],
   "source": [
    "# print the names of the four features\n",
    "print(iris.feature_names)"
   ]
  },
  {
   "cell_type": "code",
   "execution_count": null,
   "metadata": {
    "colab": {
     "base_uri": "https://localhost:8080/",
     "height": 119
    },
    "colab_type": "code",
    "executionInfo": {
     "elapsed": 1329,
     "status": "ok",
     "timestamp": 1590114769367,
     "user": {
      "displayName": "Phuong Khuat Thuy",
      "photoUrl": "",
      "userId": "16807426118474640783"
     },
     "user_tz": -420
    },
    "id": "5HnOeGESUv8Q",
    "outputId": "7a7fa5a7-918e-44fc-bdba-234b4398f06d"
   },
   "outputs": [],
   "source": [
    "# print the iris data (top 5 records)\n",
    "print(iris.data[0:5])"
   ]
  },
  {
   "cell_type": "code",
   "execution_count": null,
   "metadata": {},
   "outputs": [],
   "source": [
    "# print the iris labels (0:setosa, 1:versicolor, 2:virginica)\n",
    "print(iris.target[:5])"
   ]
  },
  {
   "cell_type": "code",
   "execution_count": null,
   "metadata": {
    "colab": {
     "base_uri": "https://localhost:8080/",
     "height": 204
    },
    "colab_type": "code",
    "executionInfo": {
     "elapsed": 1322,
     "status": "ok",
     "timestamp": 1590114769368,
     "user": {
      "displayName": "Phuong Khuat Thuy",
      "photoUrl": "",
      "userId": "16807426118474640783"
     },
     "user_tz": -420
    },
    "id": "_70FBKBVUv8T",
    "outputId": "3db41ee1-efc7-4164-f19b-0676082dac96",
    "scrolled": true
   },
   "outputs": [],
   "source": [
    "# Creating a DataFrame of given iris dataset.\n",
    "import pandas as pd\n",
    "data=pd.DataFrame({\n",
    "    'sepal length':iris.data[:,0],\n",
    "    'sepal width':iris.data[:,1],\n",
    "    'petal length':iris.data[:,2],\n",
    "    'petal width':iris.data[:,3],\n",
    "    'species':iris.target\n",
    "})\n",
    "data.head()"
   ]
  },
  {
   "cell_type": "code",
   "execution_count": null,
   "metadata": {
    "colab": {},
    "colab_type": "code",
    "id": "iHqABD_CUv8t"
   },
   "outputs": [],
   "source": [
    "X=data[['petal length', 'petal width']]  \n",
    "y=data['species']"
   ]
  },
  {
   "cell_type": "code",
   "execution_count": null,
   "metadata": {},
   "outputs": [],
   "source": [
    "from sklearn.model_selection import train_test_split"
   ]
  },
  {
   "cell_type": "code",
   "execution_count": null,
   "metadata": {
    "colab": {},
    "colab_type": "code",
    "id": "Z8ozkwiIUv8v"
   },
   "outputs": [],
   "source": [
    "X_train, X_test, y_train, y_test = train_test_split(X, y, \n",
    "                                                    test_size=0.3, \n",
    "                                                  random_state = 42) "
   ]
  },
  {
   "cell_type": "markdown",
   "metadata": {
    "colab_type": "text",
    "id": "nDtjabzuUv85"
   },
   "source": [
    "# GridSearchCV"
   ]
  },
  {
   "cell_type": "code",
   "execution_count": null,
   "metadata": {
    "colab": {},
    "colab_type": "code",
    "id": "TO2AQeLmUv86"
   },
   "outputs": [],
   "source": [
    "# Dùng Grid Search\n",
    "from sklearn.model_selection import GridSearchCV\n",
    "from sklearn.ensemble import RandomForestClassifier"
   ]
  },
  {
   "cell_type": "code",
   "execution_count": null,
   "metadata": {
    "colab": {},
    "colab_type": "code",
    "id": "DccE4DfjUv8-"
   },
   "outputs": [],
   "source": [
    "param_grid = { \n",
    "    'n_estimators': [30, 50, 100, 150, 200, 250, 300],\n",
    "    'max_features': ['auto', 'sqrt', 'log2'],\n",
    "    'bootstrap': [True, False],\n",
    "    'criterion': [\"gini\", \"entropy\"]    \n",
    "}"
   ]
  },
  {
   "cell_type": "code",
   "execution_count": null,
   "metadata": {
    "colab": {},
    "colab_type": "code",
    "id": "ljCnGN-fUv9B"
   },
   "outputs": [],
   "source": [
    "from datetime import datetime\n",
    "from datetime import timedelta"
   ]
  },
  {
   "cell_type": "code",
   "execution_count": null,
   "metadata": {
    "colab": {},
    "colab_type": "code",
    "id": "xWXRd9aAUv9E"
   },
   "outputs": [],
   "source": [
    "start_time = datetime.now()"
   ]
  },
  {
   "cell_type": "code",
   "execution_count": null,
   "metadata": {
    "colab": {},
    "colab_type": "code",
    "id": "uKRObhLRUv9H"
   },
   "outputs": [],
   "source": [
    "CV_rfc = GridSearchCV(estimator=RandomForestClassifier(), \n",
    "                      param_grid=param_grid, cv= 5)"
   ]
  },
  {
   "cell_type": "code",
   "execution_count": null,
   "metadata": {
    "colab": {
     "base_uri": "https://localhost:8080/",
     "height": 408
    },
    "colab_type": "code",
    "executionInfo": {
     "elapsed": 74795,
     "status": "ok",
     "timestamp": 1590114842932,
     "user": {
      "displayName": "Phuong Khuat Thuy",
      "photoUrl": "",
      "userId": "16807426118474640783"
     },
     "user_tz": -420
    },
    "id": "tLV4STBkUv9J",
    "outputId": "fe5ef7bb-1e14-4f64-9327-914015b18dbe"
   },
   "outputs": [],
   "source": [
    "CV_rfc.fit(X_train, y_train)"
   ]
  },
  {
   "cell_type": "code",
   "execution_count": null,
   "metadata": {
    "colab": {},
    "colab_type": "code",
    "id": "h5gnxhH0Uv9L"
   },
   "outputs": [],
   "source": [
    "end_time = datetime.now()"
   ]
  },
  {
   "cell_type": "code",
   "execution_count": null,
   "metadata": {
    "colab": {
     "base_uri": "https://localhost:8080/",
     "height": 34
    },
    "colab_type": "code",
    "executionInfo": {
     "elapsed": 74789,
     "status": "ok",
     "timestamp": 1590114842933,
     "user": {
      "displayName": "Phuong Khuat Thuy",
      "photoUrl": "",
      "userId": "16807426118474640783"
     },
     "user_tz": -420
    },
    "id": "EefQb0abUv9N",
    "outputId": "bbf06dd4-8f5f-4f7b-932a-e80da797bd07"
   },
   "outputs": [],
   "source": [
    "dt = end_time - start_time\n",
    "seconds_1 = (dt.days * 24 * 60 * 60 + dt.seconds) \n",
    "print(seconds_1)"
   ]
  },
  {
   "cell_type": "code",
   "execution_count": null,
   "metadata": {
    "colab": {
     "base_uri": "https://localhost:8080/",
     "height": 34
    },
    "colab_type": "code",
    "executionInfo": {
     "elapsed": 74783,
     "status": "ok",
     "timestamp": 1590114842933,
     "user": {
      "displayName": "Phuong Khuat Thuy",
      "photoUrl": "",
      "userId": "16807426118474640783"
     },
     "user_tz": -420
    },
    "id": "YvLe4vzCUv9P",
    "outputId": "2d36c826-ee6e-4188-8260-c5d0135786cd"
   },
   "outputs": [],
   "source": [
    "print(CV_rfc.best_params_)"
   ]
  },
  {
   "cell_type": "code",
   "execution_count": null,
   "metadata": {
    "colab": {},
    "colab_type": "code",
    "id": "sdH94IoCUv9Z"
   },
   "outputs": [],
   "source": [
    "# Dự đoán trên test dataset\n",
    "y_pred_1=CV_rfc.predict(X_test)"
   ]
  },
  {
   "cell_type": "code",
   "execution_count": null,
   "metadata": {},
   "outputs": [],
   "source": [
    "from sklearn import metrics"
   ]
  },
  {
   "cell_type": "code",
   "execution_count": null,
   "metadata": {
    "colab": {
     "base_uri": "https://localhost:8080/",
     "height": 34
    },
    "colab_type": "code",
    "executionInfo": {
     "elapsed": 74771,
     "status": "ok",
     "timestamp": 1590114842935,
     "user": {
      "displayName": "Phuong Khuat Thuy",
      "photoUrl": "",
      "userId": "16807426118474640783"
     },
     "user_tz": -420
    },
    "id": "NTk992jRUv9b",
    "outputId": "a98ef433-259b-4401-aaa8-b6f7ac5f9ae0"
   },
   "outputs": [],
   "source": [
    "# Độ chính xác lúc này\n",
    "print(\"Accuracy:\",metrics.accuracy_score(y_test, y_pred_1))"
   ]
  },
  {
   "cell_type": "code",
   "execution_count": null,
   "metadata": {
    "colab": {
     "base_uri": "https://localhost:8080/",
     "height": 34
    },
    "colab_type": "code",
    "executionInfo": {
     "elapsed": 74765,
     "status": "ok",
     "timestamp": 1590114842935,
     "user": {
      "displayName": "Phuong Khuat Thuy",
      "photoUrl": "",
      "userId": "16807426118474640783"
     },
     "user_tz": -420
    },
    "id": "h69u8jg9Uv9d",
    "outputId": "e4c2ed4d-8fe4-416b-fa57-18bd9c5a10dc"
   },
   "outputs": [],
   "source": [
    "# với petal length = 5, petal width = 2 => loại hoa gì?\n",
    "CV_rfc.predict([[5, 2]])"
   ]
  },
  {
   "cell_type": "markdown",
   "metadata": {
    "colab_type": "text",
    "id": "AuUPYN0bUv9i"
   },
   "source": [
    "# Sử dụng Random Search"
   ]
  },
  {
   "cell_type": "code",
   "execution_count": null,
   "metadata": {
    "colab": {},
    "colab_type": "code",
    "id": "bVQHCRUVUv9i"
   },
   "outputs": [],
   "source": [
    "# dùng random search\n",
    "from sklearn.model_selection import RandomizedSearchCV\n",
    "from scipy.stats import randint as sp_randint\n",
    "param_dist = {\"n_estimators\":[30, 50, 100, 150, 200, 250, 300],\n",
    "              \"max_features\": ['auto', 'sqrt', 'log2'],             \n",
    "              \"bootstrap\": [True, False],\n",
    "              \"criterion\": [\"gini\", \"entropy\"]}"
   ]
  },
  {
   "cell_type": "code",
   "execution_count": null,
   "metadata": {
    "colab": {},
    "colab_type": "code",
    "id": "5dmHjp4rUv9l"
   },
   "outputs": [],
   "source": [
    "start_time = datetime.now()"
   ]
  },
  {
   "cell_type": "code",
   "execution_count": null,
   "metadata": {
    "colab": {},
    "colab_type": "code",
    "id": "HAekUUooUv9m"
   },
   "outputs": [],
   "source": [
    "forest_random = RandomizedSearchCV(estimator=RandomForestClassifier(),\n",
    "                                   param_distributions=param_dist,\n",
    "                                   cv=5, random_state=1)"
   ]
  },
  {
   "cell_type": "code",
   "execution_count": null,
   "metadata": {
    "colab": {
     "base_uri": "https://localhost:8080/",
     "height": 510
    },
    "colab_type": "code",
    "executionInfo": {
     "elapsed": 85107,
     "status": "ok",
     "timestamp": 1590114853289,
     "user": {
      "displayName": "Phuong Khuat Thuy",
      "photoUrl": "",
      "userId": "16807426118474640783"
     },
     "user_tz": -420
    },
    "id": "QjemZFY7Uv9o",
    "outputId": "5c0617cd-7b8d-42e4-bf9d-152a869fbbe2"
   },
   "outputs": [],
   "source": [
    "forest_random.fit(X_train,y_train)"
   ]
  },
  {
   "cell_type": "code",
   "execution_count": null,
   "metadata": {
    "colab": {},
    "colab_type": "code",
    "id": "gWFMZCrtUv9q"
   },
   "outputs": [],
   "source": [
    "end_time = datetime.now()"
   ]
  },
  {
   "cell_type": "code",
   "execution_count": null,
   "metadata": {
    "colab": {
     "base_uri": "https://localhost:8080/",
     "height": 34
    },
    "colab_type": "code",
    "executionInfo": {
     "elapsed": 85101,
     "status": "ok",
     "timestamp": 1590114853290,
     "user": {
      "displayName": "Phuong Khuat Thuy",
      "photoUrl": "",
      "userId": "16807426118474640783"
     },
     "user_tz": -420
    },
    "id": "O6JrGkUAUv9r",
    "outputId": "bc9839f4-07d2-4364-b92f-6024556c696c"
   },
   "outputs": [],
   "source": [
    "dt = end_time - start_time\n",
    "seconds_2 = (dt.days * 24 * 60 * 60 + dt.seconds) \n",
    "print(seconds_2)"
   ]
  },
  {
   "cell_type": "code",
   "execution_count": null,
   "metadata": {},
   "outputs": [],
   "source": [
    "forest_random_best = forest_random.best_estimator_ \n",
    "forest_random_best"
   ]
  },
  {
   "cell_type": "code",
   "execution_count": null,
   "metadata": {
    "colab": {
     "base_uri": "https://localhost:8080/",
     "height": 34
    },
    "colab_type": "code",
    "executionInfo": {
     "elapsed": 85097,
     "status": "ok",
     "timestamp": 1590114853291,
     "user": {
      "displayName": "Phuong Khuat Thuy",
      "photoUrl": "",
      "userId": "16807426118474640783"
     },
     "user_tz": -420
    },
    "id": "-jC5nI2GUv9t",
    "outputId": "fb64e420-8fc0-46bf-ab56-bd47a74231d2"
   },
   "outputs": [],
   "source": [
    "print(\"Best Model Parameter: \",forest_random.best_params_)"
   ]
  },
  {
   "cell_type": "code",
   "execution_count": null,
   "metadata": {
    "colab": {},
    "colab_type": "code",
    "id": "UZj1OvVGUv90"
   },
   "outputs": [],
   "source": [
    "# Dự đoán trên test dataset\n",
    "y_pred_1=forest_random.predict(X_test)"
   ]
  },
  {
   "cell_type": "code",
   "execution_count": null,
   "metadata": {
    "colab": {
     "base_uri": "https://localhost:8080/",
     "height": 34
    },
    "colab_type": "code",
    "executionInfo": {
     "elapsed": 85086,
     "status": "ok",
     "timestamp": 1590114853292,
     "user": {
      "displayName": "Phuong Khuat Thuy",
      "photoUrl": "",
      "userId": "16807426118474640783"
     },
     "user_tz": -420
    },
    "id": "Cot3va_qUv92",
    "outputId": "afe42018-ba05-453f-9fc3-33bdb07f3ed6"
   },
   "outputs": [],
   "source": [
    "# Độ chính xác lúc này\n",
    "print(\"Accuracy:\",metrics.accuracy_score(y_test, y_pred_1))"
   ]
  },
  {
   "cell_type": "code",
   "execution_count": null,
   "metadata": {
    "colab": {
     "base_uri": "https://localhost:8080/",
     "height": 34
    },
    "colab_type": "code",
    "executionInfo": {
     "elapsed": 85406,
     "status": "ok",
     "timestamp": 1590114853617,
     "user": {
      "displayName": "Phuong Khuat Thuy",
      "photoUrl": "",
      "userId": "16807426118474640783"
     },
     "user_tz": -420
    },
    "id": "-hMgXBQyUv96",
    "outputId": "91159965-30a5-41c6-df88-cd4845da7a7b"
   },
   "outputs": [],
   "source": [
    "# với petal length = 5, petal width = 2 => loại hoa gì?\n",
    "forest_random.predict([[5, 2]])"
   ]
  }
 ],
 "metadata": {
  "colab": {
   "name": "Chapter9_demo_Grid_Random_Search.ipynb",
   "provenance": []
  },
  "kernelspec": {
   "display_name": "Python 3",
   "language": "python",
   "name": "python3"
  },
  "language_info": {
   "codemirror_mode": {
    "name": "ipython",
    "version": 3
   },
   "file_extension": ".py",
   "mimetype": "text/x-python",
   "name": "python",
   "nbconvert_exporter": "python",
   "pygments_lexer": "ipython3",
   "version": "3.6.8"
  }
 },
 "nbformat": 4,
 "nbformat_minor": 1
}
