{
 "cells": [
  {
   "cell_type": "code",
   "execution_count": 0,
   "metadata": {
    "application/vnd.databricks.v1+cell": {
     "cellMetadata": {},
     "inputWidgets": {},
     "nuid": "5637ad56-3a4d-4fb8-adea-1f5b40db639b",
     "showTitle": false,
     "title": ""
    }
   },
   "outputs": [
    {
     "output_type": "display_data",
     "data": {
      "text/html": [
       "<style scoped>\n",
       "  .ansiout {\n",
       "    display: block;\n",
       "    unicode-bidi: embed;\n",
       "    white-space: pre-wrap;\n",
       "    word-wrap: break-word;\n",
       "    word-break: break-all;\n",
       "    font-family: \"Menlo\", \"Monaco\", \"Consolas\", \"Ubuntu Mono\", \"Source Code Pro\", monospace;\n",
       "    font-size: 13px;\n",
       "    color: #555;\n",
       "    margin-left: 4px;\n",
       "    line-height: 19px;\n",
       "  }\n",
       "</style>\n",
       "<div class=\"ansiout\">Current Chrome version is 106.0.5249.61\n",
       "</div>"
      ]
     },
     "metadata": {
      "application/vnd.databricks.v1+output": {
       "addedWidgets": {},
       "arguments": {},
       "data": "<div class=\"ansiout\">Current Chrome version is 106.0.5249.61\n</div>",
       "datasetInfos": [],
       "metadata": {},
       "removedWidgets": [],
       "type": "html"
      }
     },
     "output_type": "display_data"
    }
   ],
   "source": [
    "# Common functions\n",
    "import requests\n",
    "\n",
    "def get_chrome_latest_release():\n",
    "    url = \"https://chromedriver.storage.googleapis.com/LATEST_RELEASE\"\n",
    "    response = requests.request(\"GET\", url)\n",
    "    return response.text\n",
    "\n",
    "# chrome_version = get_chrome_latest_release()\n",
    "chrome_version = '106.0.5249.61'\n",
    "print(f'Current Chrome version is {chrome_version}')"
   ]
  },
  {
   "cell_type": "code",
   "execution_count": 0,
   "metadata": {
    "application/vnd.databricks.v1+cell": {
     "cellMetadata": {},
     "inputWidgets": {},
     "nuid": "15f0bac8-f11b-46cc-854f-1fbe759b6c62",
     "showTitle": false,
     "title": ""
    }
   },
   "outputs": [
    {
     "output_type": "display_data",
     "data": {
      "text/html": [
       "<style scoped>\n",
       "  .ansiout {\n",
       "    display: block;\n",
       "    unicode-bidi: embed;\n",
       "    white-space: pre-wrap;\n",
       "    word-wrap: break-word;\n",
       "    word-break: break-all;\n",
       "    font-family: \"Menlo\", \"Monaco\", \"Consolas\", \"Ubuntu Mono\", \"Source Code Pro\", monospace;\n",
       "    font-size: 13px;\n",
       "    color: #555;\n",
       "    margin-left: 4px;\n",
       "    line-height: 19px;\n",
       "  }\n",
       "</style>\n",
       "<div class=\"ansiout\">Downloading Chrome installer at url https://dl.google.com/linux/chrome/deb/pool/main/g/google-chrome-stable/google-chrome-stable_106.0.5249.61-1_amd64.deb\n",
       "Storing installer to blob storage\n",
       "</div>"
      ]
     },
     "metadata": {
      "application/vnd.databricks.v1+output": {
       "addedWidgets": {},
       "arguments": {},
       "data": "<div class=\"ansiout\">Downloading Chrome installer at url https://dl.google.com/linux/chrome/deb/pool/main/g/google-chrome-stable/google-chrome-stable_106.0.5249.61-1_amd64.deb\nStoring installer to blob storage\n</div>",
       "datasetInfos": [],
       "metadata": {},
       "removedWidgets": [],
       "type": "html"
      }
     },
     "output_type": "display_data"
    }
   ],
   "source": [
    "def path_exists(file_path):\n",
    "    try:\n",
    "        dbutils.fs.ls(file_path)\n",
    "    except Exception as e:\n",
    "        if 'java.io.FileNotFoundException' in str(e):\n",
    "              return False\n",
    "        else:\n",
    "              raise e\n",
    "    return True\n",
    "\n",
    "def get_chrome_installer_download_url(version):\n",
    "    chrome_url_download=f'https://dl.google.com/linux/chrome/deb/pool/main/g/google-chrome-stable/google-chrome-stable_{version}_amd64.deb'\n",
    "    response = requests.head(chrome_url_download)\n",
    "    if response.status_code == 404:\n",
    "        chrome_url_download=f'https://dl.google.com/linux/chrome/deb/pool/main/g/google-chrome-stable/google-chrome-stable_{version}-1_amd64.deb'\n",
    "    return chrome_url_download\n",
    "\n",
    "def get_driver_download_url(version):\n",
    "    return f'https://chromedriver.storage.googleapis.com/{version}/chromedriver_linux64.zip'\n",
    "\n",
    "def download_file(url, save_path):\n",
    "    dbfs_save_path = f'/dbfs/{save_path}'\n",
    "    with requests.get(url) as r:\n",
    "        r.raise_for_status()\n",
    "        with open(dbfs_save_path, 'wb') as f:\n",
    "            for chunk in r.iter_content(chunk_size=1024*1024): \n",
    "                f.write(chunk)\n",
    "    return save_path\n",
    "\n",
    "LIB_DIR = '/mnt/databricks'\n",
    "LOCAL_CHROME_INSTALLER_PATH = '/tmp/google-chrome-stable_amd64.deb'\n",
    "BLOB_CHROME_INSTALLER_PATH = f'{LIB_DIR}/google-chrome-stable_{chrome_version}_amd64.deb'\n",
    "\n",
    "LOCAL_DIRVER_PATH = '/tmp/chromedriver.zip'\n",
    "BLOB_DIRVER_PATH = f'{LIB_DIR}/chromedriver_{chrome_version}.zip'\n",
    "# check if the Chrome installer has been downloaded\n",
    "if path_exists(BLOB_CHROME_INSTALLER_PATH):\n",
    "    print(f'Copying installer to local at path {LOCAL_CHROME_INSTALLER_PATH}')\n",
    "    dbutils.fs.cp(BLOB_CHROME_INSTALLER_PATH, LOCAL_CHROME_INSTALLER_PATH)\n",
    "else:\n",
    "    chrome_url_download = get_chrome_installer_download_url(chrome_version)\n",
    "    # Download Chrome\n",
    "    print(f'Downloading Chrome installer at url {chrome_url_download}')\n",
    "    download_file(chrome_url_download, LOCAL_CHROME_INSTALLER_PATH)\n",
    "    print(f'Storing installer to blob storage')\n",
    "    dbutils.fs.cp(LOCAL_CHROME_INSTALLER_PATH, BLOB_CHROME_INSTALLER_PATH)"
   ]
  },
  {
   "cell_type": "code",
   "execution_count": 0,
   "metadata": {
    "application/vnd.databricks.v1+cell": {
     "cellMetadata": {},
     "inputWidgets": {},
     "nuid": "1e91300d-b050-40e9-a3ef-d167d0987228",
     "showTitle": false,
     "title": ""
    }
   },
   "outputs": [
    {
     "output_type": "display_data",
     "data": {
      "text/html": [
       "<style scoped>\n",
       "  .ansiout {\n",
       "    display: block;\n",
       "    unicode-bidi: embed;\n",
       "    white-space: pre-wrap;\n",
       "    word-wrap: break-word;\n",
       "    word-break: break-all;\n",
       "    font-family: \"Menlo\", \"Monaco\", \"Consolas\", \"Ubuntu Mono\", \"Source Code Pro\", monospace;\n",
       "    font-size: 13px;\n",
       "    color: #555;\n",
       "    margin-left: 4px;\n",
       "    line-height: 19px;\n",
       "  }\n",
       "</style>\n",
       "<div class=\"ansiout\">\n",
       "WARNING: apt does not have a stable CLI interface. Use with caution in scripts.\n",
       "\n",
       "Reading package lists...\n",
       "Building dependency tree...\n",
       "Reading state information...\n",
       "E: Unable to locate package google-chrome-stable\n",
       "Selecting previously unselected package google-chrome-stable.\n",
       "(Reading database ... 92258 files and directories currently installed.)\n",
       "Preparing to unpack .../google-chrome-stable_amd64.deb ...\n",
       "Unpacking google-chrome-stable (106.0.5249.61-1) ...\n",
       "dpkg: dependency problems prevent configuration of google-chrome-stable:\n",
       " google-chrome-stable depends on fonts-liberation; however:\n",
       "  Package fonts-liberation is not installed.\n",
       " google-chrome-stable depends on libgbm1 (&gt;= 8.1~0); however:\n",
       "  Package libgbm1 is not installed.\n",
       " google-chrome-stable depends on libnspr4 (&gt;= 2:4.9-2~); however:\n",
       "  Package libnspr4 is not installed.\n",
       " google-chrome-stable depends on libnss3 (&gt;= 2:3.26); however:\n",
       "  Package libnss3 is not installed.\n",
       "\n",
       "dpkg: error processing package google-chrome-stable (--install):\n",
       " dependency problems - leaving unconfigured\n",
       "Processing triggers for mime-support (3.64ubuntu1) ...\n",
       "Processing triggers for man-db (2.9.1-1) ...\n",
       "Errors were encountered while processing:\n",
       " google-chrome-stable\n",
       "Reading package lists...\n",
       "Building dependency tree...\n",
       "Reading state information...\n",
       "Correcting dependencies... Done\n",
       "The following additional packages will be installed:\n",
       "  fonts-liberation libgbm1 libnspr4 libnss3 libwayland-server0\n",
       "The following NEW packages will be installed:\n",
       "  fonts-liberation libgbm1 libnspr4 libnss3 libwayland-server0\n",
       "0 upgraded, 5 newly installed, 0 to remove and 24 not upgraded.\n",
       "1 not fully installed or removed.\n",
       "Need to get 2,245 kB of archives.\n",
       "After this operation, 6,789 kB of additional disk space will be used.\n",
       "Get:1 http://archive.ubuntu.com/ubuntu focal/main amd64 fonts-liberation all 1:1.07.4-11 [822 kB]\n",
       "Get:2 http://archive.ubuntu.com/ubuntu focal-updates/main amd64 libwayland-server0 amd64 1.18.0-1ubuntu0.1 [31.3 kB]\n",
       "Get:3 http://archive.ubuntu.com/ubuntu focal-updates/main amd64 libgbm1 amd64 21.2.6-0ubuntu0.1~20.04.2 [29.2 kB]\n",
       "Get:4 http://archive.ubuntu.com/ubuntu focal/main amd64 libnspr4 amd64 2:4.25-1 [107 kB]\n",
       "Get:5 http://archive.ubuntu.com/ubuntu focal-updates/main amd64 libnss3 amd64 2:3.49.1-1ubuntu1.8 [1,256 kB]\n",
       "debconf: delaying package configuration, since apt-utils is not installed\n",
       "Fetched 2,245 kB in 1s (2,480 kB/s)\n",
       "Selecting previously unselected package fonts-liberation.\n",
       "(Reading database ... \n",
       "(Reading database ... 5%\n",
       "(Reading database ... 10%\n",
       "(Reading database ... 15%\n",
       "(Reading database ... 20%\n",
       "(Reading database ... 25%\n",
       "(Reading database ... 30%\n",
       "(Reading database ... 35%\n",
       "(Reading database ... 40%\n",
       "(Reading database ... 45%\n",
       "(Reading database ... 50%\n",
       "(Reading database ... 55%\n",
       "(Reading database ... 60%\n",
       "(Reading database ... 65%\n",
       "(Reading database ... 70%\n",
       "(Reading database ... 75%\n",
       "(Reading database ... 80%\n",
       "(Reading database ... 85%\n",
       "(Reading database ... 90%\n",
       "(Reading database ... 95%\n",
       "(Reading database ... 100%\n",
       "(Reading database ... 92372 files and directories currently installed.)\n",
       "Preparing to unpack .../fonts-liberation_1%3a1.07.4-11_all.deb ...\n",
       "Unpacking fonts-liberation (1:1.07.4-11) ...\n",
       "Selecting previously unselected package libwayland-server0:amd64.\n",
       "Preparing to unpack .../libwayland-server0_1.18.0-1ubuntu0.1_amd64.deb ...\n",
       "Unpacking libwayland-server0:amd64 (1.18.0-1ubuntu0.1) ...\n",
       "Selecting previously unselected package libgbm1:amd64.\n",
       "Preparing to unpack .../libgbm1_21.2.6-0ubuntu0.1~20.04.2_amd64.deb ...\n",
       "Unpacking libgbm1:amd64 (21.2.6-0ubuntu0.1~20.04.2) ...\n",
       "Selecting previously unselected package libnspr4:amd64.\n",
       "Preparing to unpack .../libnspr4_2%3a4.25-1_amd64.deb ...\n",
       "Unpacking libnspr4:amd64 (2:4.25-1) ...\n",
       "Selecting previously unselected package libnss3:amd64.\n",
       "Preparing to unpack .../libnss3_2%3a3.49.1-1ubuntu1.8_amd64.deb ...\n",
       "Unpacking libnss3:amd64 (2:3.49.1-1ubuntu1.8) ...\n",
       "Setting up libwayland-server0:amd64 (1.18.0-1ubuntu0.1) ...\n",
       "Setting up libgbm1:amd64 (21.2.6-0ubuntu0.1~20.04.2) ...\n",
       "Setting up libnspr4:amd64 (2:4.25-1) ...\n",
       "Setting up fonts-liberation (1:1.07.4-11) ...\n",
       "Setting up libnss3:amd64 (2:3.49.1-1ubuntu1.8) ...\n",
       "Setting up google-chrome-stable (106.0.5249.61-1) ...\n",
       "update-alternatives: using /usr/bin/google-chrome-stable to provide /usr/bin/x-www-browser (x-www-browser) in auto mode\n",
       "update-alternatives: using /usr/bin/google-chrome-stable to provide /usr/bin/gnome-www-browser (gnome-www-browser) in auto mode\n",
       "update-alternatives: using /usr/bin/google-chrome-stable to provide /usr/bin/google-chrome (google-chrome) in auto mode\n",
       "Processing triggers for fontconfig (2.13.1-2ubuntu3) ...\n",
       "Processing triggers for libc-bin (2.31-0ubuntu9.9) ...\n",
       "</div>"
      ]
     },
     "metadata": {
      "application/vnd.databricks.v1+output": {
       "addedWidgets": {},
       "arguments": {},
       "data": "<div class=\"ansiout\">\nWARNING: apt does not have a stable CLI interface. Use with caution in scripts.\n\nReading package lists...\nBuilding dependency tree...\nReading state information...\nE: Unable to locate package google-chrome-stable\nSelecting previously unselected package google-chrome-stable.\n(Reading database ... 92258 files and directories currently installed.)\nPreparing to unpack .../google-chrome-stable_amd64.deb ...\nUnpacking google-chrome-stable (106.0.5249.61-1) ...\ndpkg: dependency problems prevent configuration of google-chrome-stable:\n google-chrome-stable depends on fonts-liberation; however:\n  Package fonts-liberation is not installed.\n google-chrome-stable depends on libgbm1 (&gt;= 8.1~0); however:\n  Package libgbm1 is not installed.\n google-chrome-stable depends on libnspr4 (&gt;= 2:4.9-2~); however:\n  Package libnspr4 is not installed.\n google-chrome-stable depends on libnss3 (&gt;= 2:3.26); however:\n  Package libnss3 is not installed.\n\ndpkg: error processing package google-chrome-stable (--install):\n dependency problems - leaving unconfigured\nProcessing triggers for mime-support (3.64ubuntu1) ...\nProcessing triggers for man-db (2.9.1-1) ...\nErrors were encountered while processing:\n google-chrome-stable\nReading package lists...\nBuilding dependency tree...\nReading state information...\nCorrecting dependencies... Done\nThe following additional packages will be installed:\n  fonts-liberation libgbm1 libnspr4 libnss3 libwayland-server0\nThe following NEW packages will be installed:\n  fonts-liberation libgbm1 libnspr4 libnss3 libwayland-server0\n0 upgraded, 5 newly installed, 0 to remove and 24 not upgraded.\n1 not fully installed or removed.\nNeed to get 2,245 kB of archives.\nAfter this operation, 6,789 kB of additional disk space will be used.\nGet:1 http://archive.ubuntu.com/ubuntu focal/main amd64 fonts-liberation all 1:1.07.4-11 [822 kB]\nGet:2 http://archive.ubuntu.com/ubuntu focal-updates/main amd64 libwayland-server0 amd64 1.18.0-1ubuntu0.1 [31.3 kB]\nGet:3 http://archive.ubuntu.com/ubuntu focal-updates/main amd64 libgbm1 amd64 21.2.6-0ubuntu0.1~20.04.2 [29.2 kB]\nGet:4 http://archive.ubuntu.com/ubuntu focal/main amd64 libnspr4 amd64 2:4.25-1 [107 kB]\nGet:5 http://archive.ubuntu.com/ubuntu focal-updates/main amd64 libnss3 amd64 2:3.49.1-1ubuntu1.8 [1,256 kB]\ndebconf: delaying package configuration, since apt-utils is not installed\nFetched 2,245 kB in 1s (2,480 kB/s)\nSelecting previously unselected package fonts-liberation.\n(Reading database ... \n(Reading database ... 5%\n(Reading database ... 10%\n(Reading database ... 15%\n(Reading database ... 20%\n(Reading database ... 25%\n(Reading database ... 30%\n(Reading database ... 35%\n(Reading database ... 40%\n(Reading database ... 45%\n(Reading database ... 50%\n(Reading database ... 55%\n(Reading database ... 60%\n(Reading database ... 65%\n(Reading database ... 70%\n(Reading database ... 75%\n(Reading database ... 80%\n(Reading database ... 85%\n(Reading database ... 90%\n(Reading database ... 95%\n(Reading database ... 100%\n(Reading database ... 92372 files and directories currently installed.)\nPreparing to unpack .../fonts-liberation_1%3a1.07.4-11_all.deb ...\nUnpacking fonts-liberation (1:1.07.4-11) ...\nSelecting previously unselected package libwayland-server0:amd64.\nPreparing to unpack .../libwayland-server0_1.18.0-1ubuntu0.1_amd64.deb ...\nUnpacking libwayland-server0:amd64 (1.18.0-1ubuntu0.1) ...\nSelecting previously unselected package libgbm1:amd64.\nPreparing to unpack .../libgbm1_21.2.6-0ubuntu0.1~20.04.2_amd64.deb ...\nUnpacking libgbm1:amd64 (21.2.6-0ubuntu0.1~20.04.2) ...\nSelecting previously unselected package libnspr4:amd64.\nPreparing to unpack .../libnspr4_2%3a4.25-1_amd64.deb ...\nUnpacking libnspr4:amd64 (2:4.25-1) ...\nSelecting previously unselected package libnss3:amd64.\nPreparing to unpack .../libnss3_2%3a3.49.1-1ubuntu1.8_amd64.deb ...\nUnpacking libnss3:amd64 (2:3.49.1-1ubuntu1.8) ...\nSetting up libwayland-server0:amd64 (1.18.0-1ubuntu0.1) ...\nSetting up libgbm1:amd64 (21.2.6-0ubuntu0.1~20.04.2) ...\nSetting up libnspr4:amd64 (2:4.25-1) ...\nSetting up fonts-liberation (1:1.07.4-11) ...\nSetting up libnss3:amd64 (2:3.49.1-1ubuntu1.8) ...\nSetting up google-chrome-stable (106.0.5249.61-1) ...\nupdate-alternatives: using /usr/bin/google-chrome-stable to provide /usr/bin/x-www-browser (x-www-browser) in auto mode\nupdate-alternatives: using /usr/bin/google-chrome-stable to provide /usr/bin/gnome-www-browser (gnome-www-browser) in auto mode\nupdate-alternatives: using /usr/bin/google-chrome-stable to provide /usr/bin/google-chrome (google-chrome) in auto mode\nProcessing triggers for fontconfig (2.13.1-2ubuntu3) ...\nProcessing triggers for libc-bin (2.31-0ubuntu9.9) ...\n</div>",
       "datasetInfos": [],
       "metadata": {},
       "removedWidgets": [],
       "type": "html"
      }
     },
     "output_type": "display_data"
    }
   ],
   "source": [
    "%sh\n",
    "# install Chrome\n",
    "sudo sudo apt remove -y google-chrome-stable\n",
    "sudo dpkg -i /dbfs/tmp/google-chrome-stable_amd64.deb\n",
    "sudo sudo apt-get install -f -y"
   ]
  },
  {
   "cell_type": "code",
   "execution_count": 0,
   "metadata": {
    "application/vnd.databricks.v1+cell": {
     "cellMetadata": {},
     "inputWidgets": {},
     "nuid": "9d9b11ae-0ae6-4cbc-ae15-598b19c1bfdb",
     "showTitle": false,
     "title": ""
    }
   },
   "outputs": [
    {
     "output_type": "display_data",
     "data": {
      "text/html": [
       "<style scoped>\n",
       "  .ansiout {\n",
       "    display: block;\n",
       "    unicode-bidi: embed;\n",
       "    white-space: pre-wrap;\n",
       "    word-wrap: break-word;\n",
       "    word-break: break-all;\n",
       "    font-family: \"Menlo\", \"Monaco\", \"Consolas\", \"Ubuntu Mono\", \"Source Code Pro\", monospace;\n",
       "    font-size: 13px;\n",
       "    color: #555;\n",
       "    margin-left: 4px;\n",
       "    line-height: 19px;\n",
       "  }\n",
       "</style>\n",
       "<div class=\"ansiout\">Downloading Chrome driver at url https://chromedriver.storage.googleapis.com/106.0.5249.61/chromedriver_linux64.zip\n",
       "Storing installer to blob storage\n",
       "</div>"
      ]
     },
     "metadata": {
      "application/vnd.databricks.v1+output": {
       "addedWidgets": {},
       "arguments": {},
       "data": "<div class=\"ansiout\">Downloading Chrome driver at url https://chromedriver.storage.googleapis.com/106.0.5249.61/chromedriver_linux64.zip\nStoring installer to blob storage\n</div>",
       "datasetInfos": [],
       "metadata": {},
       "removedWidgets": [],
       "type": "html"
      }
     },
     "output_type": "display_data"
    }
   ],
   "source": [
    "# check if the Chrome installer has been downloaded\n",
    "if path_exists(BLOB_DIRVER_PATH):\n",
    "    print(f'Copying installer to local at path {LOCAL_DIRVER_PATH}')\n",
    "    dbutils.fs.cp(BLOB_DIRVER_PATH, LOCAL_DIRVER_PATH)\n",
    "else:\n",
    "    driver_url_download = get_driver_download_url(chrome_version)\n",
    "    # Download Chrome\n",
    "    print(f'Downloading Chrome driver at url {driver_url_download}')\n",
    "    download_file(driver_url_download, LOCAL_DIRVER_PATH)\n",
    "    print(f'Storing installer to blob storage')\n",
    "    dbutils.fs.cp(LOCAL_DIRVER_PATH, BLOB_DIRVER_PATH)"
   ]
  },
  {
   "cell_type": "code",
   "execution_count": 0,
   "metadata": {
    "application/vnd.databricks.v1+cell": {
     "cellMetadata": {},
     "inputWidgets": {},
     "nuid": "3bd25888-9e54-47fb-8a9d-102703b4c74d",
     "showTitle": false,
     "title": ""
    }
   },
   "outputs": [
    {
     "output_type": "display_data",
     "data": {
      "text/html": [
       "<style scoped>\n",
       "  .ansiout {\n",
       "    display: block;\n",
       "    unicode-bidi: embed;\n",
       "    white-space: pre-wrap;\n",
       "    word-wrap: break-word;\n",
       "    word-break: break-all;\n",
       "    font-family: \"Menlo\", \"Monaco\", \"Consolas\", \"Ubuntu Mono\", \"Source Code Pro\", monospace;\n",
       "    font-size: 13px;\n",
       "    color: #555;\n",
       "    margin-left: 4px;\n",
       "    line-height: 19px;\n",
       "  }\n",
       "</style>\n",
       "<div class=\"ansiout\">rm: cannot remove &#39;/tmp/chromedriver&#39;: No such file or directory\n",
       "Archive:  /dbfs/tmp/chromedriver.zip\n",
       "  inflating: /tmp/chromedriver/chromedriver  \n",
       "</div>"
      ]
     },
     "metadata": {
      "application/vnd.databricks.v1+output": {
       "addedWidgets": {},
       "arguments": {},
       "data": "<div class=\"ansiout\">rm: cannot remove &#39;/tmp/chromedriver&#39;: No such file or directory\nArchive:  /dbfs/tmp/chromedriver.zip\n  inflating: /tmp/chromedriver/chromedriver  \n</div>",
       "datasetInfos": [],
       "metadata": {},
       "removedWidgets": [],
       "type": "html"
      }
     },
     "output_type": "display_data"
    }
   ],
   "source": [
    "%sh\n",
    "# extract Driver\n",
    "rm -r /tmp/chromedriver\n",
    "mkdir /tmp/chromedriver\n",
    "unzip /dbfs/tmp/chromedriver.zip -d /tmp/chromedriver/"
   ]
  },
  {
   "cell_type": "code",
   "execution_count": 0,
   "metadata": {
    "application/vnd.databricks.v1+cell": {
     "cellMetadata": {},
     "inputWidgets": {},
     "nuid": "aa66be76-496b-4708-8cd6-aff3fa979622",
     "showTitle": false,
     "title": ""
    }
   },
   "outputs": [],
   "source": [
    "dbutils.notebook.exit('/tmp/chromedriver/chromedriver')"
   ]
  }
 ],
 "metadata": {
  "application/vnd.databricks.v1+notebook": {
   "dashboards": [],
   "language": "python",
   "notebookMetadata": {
    "mostRecentlyExecutedCommandWithImplicitDF": {
     "commandId": -1,
     "dataframes": [
      "_sqldf"
     ]
    },
    "pythonIndentUnit": 4
   },
   "notebookName": "CHROME_DRIVER_SETUP",
   "widgets": {}
  }
 },
 "nbformat": 4,
 "nbformat_minor": 0
}
