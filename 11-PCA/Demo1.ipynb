{
 "cells": [
  {
   "cell_type": "code",
   "execution_count": 13,
   "metadata": {},
   "outputs": [
    {
     "name": "stdout",
     "output_type": "stream",
     "text": [
      "U: \n",
      " [[ 0.816  0.577  0.707]\n",
      " [-0.577  0.816  0.707]\n",
      " [ 0.816  0.577  0.707]]\n",
      "\n",
      "U.T: \n",
      " [[ 0.816 -0.577  0.816]\n",
      " [ 0.577  0.816  0.577]\n",
      " [ 0.707  0.707  0.707]]\n",
      "\n",
      "U.dot(U.T): \n",
      " [[1. 0. 1.]\n",
      " [0. 1. 0.]\n",
      " [1. 0. 1.]]\n",
      "\n",
      "S: \n",
      " [[8.5 0.  0. ]\n",
      " [0.  2.  0. ]\n",
      " [0.  0.  0.1]]\n",
      "\n",
      "U.dot(S): \n",
      " [[ 6.936   1.154   0.0707]\n",
      " [-4.9045  1.632   0.0707]\n",
      " [ 6.936   1.154   0.0707]]\n"
     ]
    }
   ],
   "source": [
    "import numpy as np\n",
    "\n",
    "U = np.array([[0.816,0.577,0.707],[-0.577, 0.816,0.707], [0.816,0.577, 0.707]])\n",
    "print(\"U: \\n\", U)\n",
    "print()\n",
    "print(\"U.T: \\n\", U.T)\n",
    "print()\n",
    "print (\"U.dot(U.T): \\n\", np.round(U.dot(U.T)))\n",
    "\n",
    "S = np.diag([8.5,2,0.1])\n",
    "print()\n",
    "print(\"S: \\n\", S)\n",
    "\n",
    "print()\n",
    "print (\"U.dot(S): \\n\", U.dot(S))"
   ]
  },
  {
   "attachments": {},
   "cell_type": "markdown",
   "metadata": {},
   "source": [
    "#### Demo Eigen"
   ]
  },
  {
   "cell_type": "code",
   "execution_count": 14,
   "metadata": {},
   "outputs": [],
   "source": [
    "import numpy as np\n",
    "from numpy.linalg import eig, inv\n",
    "from numpy import diag"
   ]
  },
  {
   "cell_type": "code",
   "execution_count": 16,
   "metadata": {},
   "outputs": [],
   "source": [
    "A = np.array([[1, 2], [2, 3]])"
   ]
  },
  {
   "cell_type": "code",
   "execution_count": 17,
   "metadata": {},
   "outputs": [],
   "source": [
    "values, vectors = eig(A)"
   ]
  },
  {
   "cell_type": "code",
   "execution_count": 19,
   "metadata": {},
   "outputs": [
    {
     "name": "stdout",
     "output_type": "stream",
     "text": [
      "Values:  [-0.23606798  4.23606798]\n",
      "Vectors:  [[-0.85065081 -0.52573111]\n",
      " [ 0.52573111 -0.85065081]]\n"
     ]
    }
   ],
   "source": [
    "print(\"Values: \", values)\n",
    "print(\"Vectors: \", vectors)"
   ]
  },
  {
   "cell_type": "code",
   "execution_count": 20,
   "metadata": {},
   "outputs": [
    {
     "data": {
      "text/plain": [
       "array([[-0.85065081, -0.52573111],\n",
       "       [ 0.52573111, -0.85065081]])"
      ]
     },
     "execution_count": 20,
     "metadata": {},
     "output_type": "execute_result"
    }
   ],
   "source": [
    "Q = vectors\n",
    "Q"
   ]
  },
  {
   "cell_type": "code",
   "execution_count": 21,
   "metadata": {},
   "outputs": [
    {
     "name": "stdout",
     "output_type": "stream",
     "text": [
      "[[1. 0.]\n",
      " [0. 1.]]\n"
     ]
    }
   ],
   "source": [
    "print(Q@Q.T)"
   ]
  }
 ],
 "metadata": {
  "kernelspec": {
   "display_name": "cassandra_app",
   "language": "python",
   "name": "python3"
  },
  "language_info": {
   "codemirror_mode": {
    "name": "ipython",
    "version": 3
   },
   "file_extension": ".py",
   "mimetype": "text/x-python",
   "name": "python",
   "nbconvert_exporter": "python",
   "pygments_lexer": "ipython3",
   "version": "3.10.14"
  },
  "orig_nbformat": 4
 },
 "nbformat": 4,
 "nbformat_minor": 2
}
