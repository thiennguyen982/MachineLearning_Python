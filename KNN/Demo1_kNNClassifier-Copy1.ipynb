{
 "cells": [
  {
   "cell_type": "code",
   "execution_count": 46,
   "id": "48c96861-bd77-4d1f-b055-1138bcf0b7b6",
   "metadata": {},
   "outputs": [],
   "source": [
    "import pandas as pd\n",
    "from sklearn.preprocessing import LabelEncoder\n",
    "from sklearn.preprocessing import MinMaxScaler\n",
    "import numpy as np\n",
    "from sklearn.model_selection import train_test_split\n",
    "from sklearn.neighbors import KNeighborsClassifier\n",
    "from matplotlib import pyplot as plt"
   ]
  },
  {
   "cell_type": "code",
   "execution_count": 47,
   "id": "a4f7f6f4-fe70-41c8-ba17-c08c24f3e1af",
   "metadata": {},
   "outputs": [],
   "source": [
    "## read data\n",
    "data = pd.read_csv(\"data/Social_Network_Ads.csv\")"
   ]
  },
  {
   "cell_type": "code",
   "execution_count": 48,
   "id": "d0ae5185-affc-4f93-927e-f9d0393a37df",
   "metadata": {},
   "outputs": [
    {
     "data": {
      "text/html": [
       "<div>\n",
       "<style scoped>\n",
       "    .dataframe tbody tr th:only-of-type {\n",
       "        vertical-align: middle;\n",
       "    }\n",
       "\n",
       "    .dataframe tbody tr th {\n",
       "        vertical-align: top;\n",
       "    }\n",
       "\n",
       "    .dataframe thead th {\n",
       "        text-align: right;\n",
       "    }\n",
       "</style>\n",
       "<table border=\"1\" class=\"dataframe\">\n",
       "  <thead>\n",
       "    <tr style=\"text-align: right;\">\n",
       "      <th></th>\n",
       "      <th>User ID</th>\n",
       "      <th>Gender</th>\n",
       "      <th>Age</th>\n",
       "      <th>EstimatedSalary</th>\n",
       "      <th>Purchased</th>\n",
       "    </tr>\n",
       "  </thead>\n",
       "  <tbody>\n",
       "    <tr>\n",
       "      <th>328</th>\n",
       "      <td>15796351</td>\n",
       "      <td>Male</td>\n",
       "      <td>36</td>\n",
       "      <td>118000</td>\n",
       "      <td>1</td>\n",
       "    </tr>\n",
       "    <tr>\n",
       "      <th>219</th>\n",
       "      <td>15732987</td>\n",
       "      <td>Male</td>\n",
       "      <td>59</td>\n",
       "      <td>143000</td>\n",
       "      <td>1</td>\n",
       "    </tr>\n",
       "    <tr>\n",
       "      <th>171</th>\n",
       "      <td>15570932</td>\n",
       "      <td>Male</td>\n",
       "      <td>34</td>\n",
       "      <td>115000</td>\n",
       "      <td>0</td>\n",
       "    </tr>\n",
       "    <tr>\n",
       "      <th>35</th>\n",
       "      <td>15713144</td>\n",
       "      <td>Male</td>\n",
       "      <td>35</td>\n",
       "      <td>27000</td>\n",
       "      <td>0</td>\n",
       "    </tr>\n",
       "    <tr>\n",
       "      <th>378</th>\n",
       "      <td>15577806</td>\n",
       "      <td>Male</td>\n",
       "      <td>41</td>\n",
       "      <td>87000</td>\n",
       "      <td>1</td>\n",
       "    </tr>\n",
       "  </tbody>\n",
       "</table>\n",
       "</div>"
      ],
      "text/plain": [
       "      User ID Gender  Age  EstimatedSalary  Purchased\n",
       "328  15796351   Male   36           118000          1\n",
       "219  15732987   Male   59           143000          1\n",
       "171  15570932   Male   34           115000          0\n",
       "35   15713144   Male   35            27000          0\n",
       "378  15577806   Male   41            87000          1"
      ]
     },
     "execution_count": 48,
     "metadata": {},
     "output_type": "execute_result"
    }
   ],
   "source": [
    "data.sample(5)"
   ]
  },
  {
   "cell_type": "code",
   "execution_count": 49,
   "id": "bd29c577-ef3b-421e-a7ba-2308a87d1966",
   "metadata": {},
   "outputs": [
    {
     "data": {
      "text/plain": [
       "Purchased\n",
       "0    257\n",
       "1    143\n",
       "Name: count, dtype: int64"
      ]
     },
     "execution_count": 49,
     "metadata": {},
     "output_type": "execute_result"
    }
   ],
   "source": [
    "data.Purchased.value_counts()"
   ]
  },
  {
   "cell_type": "markdown",
   "id": "596a3c81-7c6e-4ef7-8de5-c3113dc574a6",
   "metadata": {},
   "source": [
    "# 1. Reformat data"
   ]
  },
  {
   "cell_type": "code",
   "execution_count": 50,
   "id": "8178c83d-b185-4ce3-b35c-e69073ab1c30",
   "metadata": {},
   "outputs": [],
   "source": [
    "data = data.drop(\"User ID\", axis='columns')\n",
    "# Vì sao phải bỏ UserID?"
   ]
  },
  {
   "cell_type": "code",
   "execution_count": 51,
   "id": "eea3a68a-a035-4919-802a-29a2e3889e1f",
   "metadata": {},
   "outputs": [
    {
     "data": {
      "text/plain": [
       "array([[19, 35, 26, 27, 19, 27, 27, 32, 25, 35, 26, 26, 20, 32, 18, 29,\n",
       "        47, 45, 46, 48, 45, 47, 48, 45, 46, 47, 49, 47, 29, 31, 31, 27,\n",
       "        21, 28, 27, 35, 33, 30, 26, 27, 27, 33, 35, 30, 28, 23, 25, 27,\n",
       "        30, 31, 24, 18, 29, 35, 27, 24, 23, 28, 22, 32, 27, 25, 23, 32,\n",
       "        59, 24, 24, 23, 22, 31, 25, 24, 20, 33, 32, 34, 18, 22, 28, 26,\n",
       "        30, 39, 20, 35, 30, 31, 24, 28, 26, 35, 22, 30, 26, 29, 29, 35,\n",
       "        35, 28, 35, 28, 27, 28, 32, 33, 19, 21, 26, 27, 26, 38, 39, 37,\n",
       "        38, 37, 42, 40, 35, 36, 40, 41, 36, 37, 40, 35, 41, 39, 42, 26,\n",
       "        30, 26, 31, 33, 30, 21, 28, 23, 20, 30, 28, 19, 19, 18, 35, 30,\n",
       "        34, 24, 27, 41, 29, 20, 26, 41, 31, 36, 40, 31, 46, 29, 26, 32,\n",
       "        32, 25, 37, 35, 33, 18, 22, 35, 29, 29, 21, 34, 26, 34, 34, 23,\n",
       "        35, 25, 24, 31, 26, 31, 32, 33, 33, 31, 20, 33, 35, 28, 24, 19,\n",
       "        29, 19, 28, 34, 30, 20, 26, 35, 35, 49, 39, 41, 58, 47, 55, 52,\n",
       "        40, 46, 48, 52, 59, 35, 47, 60, 49, 40, 46, 59, 41, 35, 37, 60,\n",
       "        35, 37, 36, 56, 40, 42, 35, 39, 40, 49, 38, 46, 40, 37, 46, 53,\n",
       "        42, 38, 50, 56, 41, 51, 35, 57, 41, 35, 44, 37, 48, 37, 50, 52,\n",
       "        41, 40, 58, 45, 35, 36, 55, 35, 48, 42, 40, 37, 47, 40, 43, 59,\n",
       "        60, 39, 57, 57, 38, 49, 52, 50, 59, 35, 37, 52, 48, 37, 37, 48,\n",
       "        41, 37, 39, 49, 55, 37, 35, 36, 42, 43, 45, 46, 58, 48, 37, 37,\n",
       "        40, 42, 51, 47, 36, 38, 42, 39, 38, 49, 39, 39, 54, 35, 45, 36,\n",
       "        52, 53, 41, 48, 48, 41, 41, 42, 36, 47, 38, 48, 42, 40, 57, 36,\n",
       "        58, 35, 38, 39, 53, 35, 38, 47, 47, 41, 53, 54, 39, 38, 38, 37,\n",
       "        42, 37, 36, 60, 54, 41, 40, 42, 43, 53, 47, 42, 42, 59, 58, 46,\n",
       "        38, 54, 60, 60, 39, 59, 37, 46, 46, 42, 41, 58, 42, 48, 44, 49,\n",
       "        57, 56, 49, 39, 47, 48, 48, 47, 45, 60, 39, 46, 51, 50, 36, 49]],\n",
       "      dtype=int64)"
      ]
     },
     "execution_count": 51,
     "metadata": {},
     "output_type": "execute_result"
    }
   ],
   "source": [
    "np.reshape(data['Age'].values,(1,-1))"
   ]
  },
  {
   "cell_type": "code",
   "execution_count": 52,
   "id": "ab27d3d3-9991-48f1-b5db-3b00aba788f5",
   "metadata": {},
   "outputs": [],
   "source": [
    "lbl = LabelEncoder()\n",
    "\n",
    "data[\"Gender\"] = lbl.fit_transform(data['Gender']) # 2 steps: fit => transform\n",
    "\n",
    "scaler = MinMaxScaler()\n",
    "data[\"Age\"] = scaler.fit_transform(np.reshape(data['Age'].values,(-1,1)))\n",
    "data[\"EstimatedSalary\"] = scaler.fit_transform(np.reshape(data['EstimatedSalary'].values,(-1,1)))"
   ]
  },
  {
   "cell_type": "code",
   "execution_count": 53,
   "id": "fc1c56e5-6352-488c-b34f-660aab0d7da7",
   "metadata": {},
   "outputs": [
    {
     "data": {
      "text/html": [
       "<div>\n",
       "<style scoped>\n",
       "    .dataframe tbody tr th:only-of-type {\n",
       "        vertical-align: middle;\n",
       "    }\n",
       "\n",
       "    .dataframe tbody tr th {\n",
       "        vertical-align: top;\n",
       "    }\n",
       "\n",
       "    .dataframe thead th {\n",
       "        text-align: right;\n",
       "    }\n",
       "</style>\n",
       "<table border=\"1\" class=\"dataframe\">\n",
       "  <thead>\n",
       "    <tr style=\"text-align: right;\">\n",
       "      <th></th>\n",
       "      <th>Gender</th>\n",
       "      <th>Age</th>\n",
       "      <th>EstimatedSalary</th>\n",
       "      <th>Purchased</th>\n",
       "    </tr>\n",
       "  </thead>\n",
       "  <tbody>\n",
       "    <tr>\n",
       "      <th>133</th>\n",
       "      <td>0</td>\n",
       "      <td>0.071429</td>\n",
       "      <td>0.392593</td>\n",
       "      <td>0</td>\n",
       "    </tr>\n",
       "    <tr>\n",
       "      <th>5</th>\n",
       "      <td>1</td>\n",
       "      <td>0.214286</td>\n",
       "      <td>0.318519</td>\n",
       "      <td>0</td>\n",
       "    </tr>\n",
       "    <tr>\n",
       "      <th>168</th>\n",
       "      <td>1</td>\n",
       "      <td>0.261905</td>\n",
       "      <td>0.985185</td>\n",
       "      <td>1</td>\n",
       "    </tr>\n",
       "    <tr>\n",
       "      <th>11</th>\n",
       "      <td>0</td>\n",
       "      <td>0.190476</td>\n",
       "      <td>0.274074</td>\n",
       "      <td>0</td>\n",
       "    </tr>\n",
       "    <tr>\n",
       "      <th>262</th>\n",
       "      <td>0</td>\n",
       "      <td>0.880952</td>\n",
       "      <td>0.814815</td>\n",
       "      <td>1</td>\n",
       "    </tr>\n",
       "  </tbody>\n",
       "</table>\n",
       "</div>"
      ],
      "text/plain": [
       "     Gender       Age  EstimatedSalary  Purchased\n",
       "133       0  0.071429         0.392593          0\n",
       "5         1  0.214286         0.318519          0\n",
       "168       1  0.261905         0.985185          1\n",
       "11        0  0.190476         0.274074          0\n",
       "262       0  0.880952         0.814815          1"
      ]
     },
     "execution_count": 53,
     "metadata": {},
     "output_type": "execute_result"
    }
   ],
   "source": [
    "data.sample(5)"
   ]
  },
  {
   "cell_type": "code",
   "execution_count": 54,
   "id": "915716a5-8795-4a43-b618-4de2e2afc81e",
   "metadata": {},
   "outputs": [
    {
     "name": "stdout",
     "output_type": "stream",
     "text": [
      "<class 'pandas.core.frame.DataFrame'>\n",
      "RangeIndex: 400 entries, 0 to 399\n",
      "Data columns (total 4 columns):\n",
      " #   Column           Non-Null Count  Dtype  \n",
      "---  ------           --------------  -----  \n",
      " 0   Gender           400 non-null    int32  \n",
      " 1   Age              400 non-null    float64\n",
      " 2   EstimatedSalary  400 non-null    float64\n",
      " 3   Purchased        400 non-null    int64  \n",
      "dtypes: float64(2), int32(1), int64(1)\n",
      "memory usage: 11.1 KB\n"
     ]
    }
   ],
   "source": [
    "data.info()"
   ]
  },
  {
   "cell_type": "markdown",
   "id": "c00c8770-4904-4bbb-88ac-01a582786975",
   "metadata": {},
   "source": [
    "# 2. Train test split"
   ]
  },
  {
   "cell_type": "code",
   "execution_count": 55,
   "id": "9622e088-9b7b-40e6-9a63-fd08a3f14118",
   "metadata": {},
   "outputs": [],
   "source": [
    "X_train,X_test,y_train,y_test = train_test_split(data.iloc[:,:-1],data.iloc[:,-1],test_size=0.3,random_state=422)"
   ]
  },
  {
   "cell_type": "code",
   "execution_count": 56,
   "id": "721b4445-894c-4839-a2ec-20a89a28b244",
   "metadata": {},
   "outputs": [
    {
     "data": {
      "text/html": [
       "<div>\n",
       "<style scoped>\n",
       "    .dataframe tbody tr th:only-of-type {\n",
       "        vertical-align: middle;\n",
       "    }\n",
       "\n",
       "    .dataframe tbody tr th {\n",
       "        vertical-align: top;\n",
       "    }\n",
       "\n",
       "    .dataframe thead th {\n",
       "        text-align: right;\n",
       "    }\n",
       "</style>\n",
       "<table border=\"1\" class=\"dataframe\">\n",
       "  <thead>\n",
       "    <tr style=\"text-align: right;\">\n",
       "      <th></th>\n",
       "      <th>Gender</th>\n",
       "      <th>Age</th>\n",
       "      <th>EstimatedSalary</th>\n",
       "    </tr>\n",
       "  </thead>\n",
       "  <tbody>\n",
       "    <tr>\n",
       "      <th>304</th>\n",
       "      <td>0</td>\n",
       "      <td>0.523810</td>\n",
       "      <td>0.333333</td>\n",
       "    </tr>\n",
       "    <tr>\n",
       "      <th>235</th>\n",
       "      <td>1</td>\n",
       "      <td>0.666667</td>\n",
       "      <td>0.474074</td>\n",
       "    </tr>\n",
       "    <tr>\n",
       "      <th>281</th>\n",
       "      <td>1</td>\n",
       "      <td>0.404762</td>\n",
       "      <td>0.340741</td>\n",
       "    </tr>\n",
       "    <tr>\n",
       "      <th>119</th>\n",
       "      <td>1</td>\n",
       "      <td>0.547619</td>\n",
       "      <td>0.325926</td>\n",
       "    </tr>\n",
       "    <tr>\n",
       "      <th>330</th>\n",
       "      <td>1</td>\n",
       "      <td>0.476190</td>\n",
       "      <td>0.266667</td>\n",
       "    </tr>\n",
       "  </tbody>\n",
       "</table>\n",
       "</div>"
      ],
      "text/plain": [
       "     Gender       Age  EstimatedSalary\n",
       "304       0  0.523810         0.333333\n",
       "235       1  0.666667         0.474074\n",
       "281       1  0.404762         0.340741\n",
       "119       1  0.547619         0.325926\n",
       "330       1  0.476190         0.266667"
      ]
     },
     "execution_count": 56,
     "metadata": {},
     "output_type": "execute_result"
    }
   ],
   "source": [
    "X_test.sample(5)"
   ]
  },
  {
   "cell_type": "markdown",
   "id": "50e60956-f698-412a-8e1d-8f6e291c614b",
   "metadata": {},
   "source": [
    "# 3. Modeling"
   ]
  },
  {
   "cell_type": "code",
   "execution_count": 58,
   "id": "b0d702ed-3edf-4437-9d16-993648367aba",
   "metadata": {},
   "outputs": [
    {
     "data": {
      "image/png": "[encoded data removed]",
      "text/plain": [
       "<Figure size 640x480 with 1 Axes>"
      ]
     },
     "metadata": {},
     "output_type": "display_data"
    }
   ],
   "source": [
    "train_acc = []\n",
    "test_acc = []\n",
    "### k nen la so le, k should > 1, k!= N\n",
    "for k in range(2, 11):\n",
    "    neigh = KNeighborsClassifier(n_neighbors=k)\n",
    "    neigh.fit(X_train, y_train)\n",
    "    tr_ac = neigh.score(X_train,y_train)\n",
    "    te_ac = neigh.score(X_test,y_test)\n",
    "    train_acc.append(tr_ac)\n",
    "    test_acc.append(te_ac)\n",
    "\n",
    "# plot accuracy to select k\n",
    "X_label = list(range(2,11))\n",
    "plt.plot(X_label,train_acc,label='train_acc')\n",
    "plt.plot(X_label,test_acc,label='test_acc')\n",
    "plt.legend()\n",
    "plt.show()"
   ]
  },
  {
   "cell_type": "code",
   "execution_count": 59,
   "id": "3a19b6e0-7bdf-4815-8a67-4223a6b5496d",
   "metadata": {},
   "outputs": [],
   "source": [
    "from sklearn.metrics import classification_report"
   ]
  },
  {
   "cell_type": "code",
   "execution_count": 60,
   "id": "deed762b-baf4-4753-9eee-462462883c55",
   "metadata": {},
   "outputs": [
    {
     "name": "stdout",
     "output_type": "stream",
     "text": [
      "              precision    recall  f1-score   support\n",
      "\n",
      "           0     0.9189    0.9444    0.9315        72\n",
      "           1     0.9130    0.8750    0.8936        48\n",
      "\n",
      "    accuracy                         0.9167       120\n",
      "   macro avg     0.9160    0.9097    0.9126       120\n",
      "weighted avg     0.9166    0.9167    0.9164       120\n",
      "\n"
     ]
    }
   ],
   "source": [
    "fk=7\n",
    "neigh = KNeighborsClassifier(n_neighbors=fk)\n",
    "neigh.fit(X_train, y_train)\n",
    "preds = neigh.predict(X_test)\n",
    "print(classification_report(y_test,preds,digits=4))"
   ]
  },
  {
   "cell_type": "code",
   "execution_count": 61,
   "id": "9a24e526-2121-46bd-8acd-56534028dcb6",
   "metadata": {},
   "outputs": [
    {
     "name": "stdout",
     "output_type": "stream",
     "text": [
      "              precision    recall  f1-score   support\n",
      "\n",
      "           0     0.8961    0.9583    0.9262        72\n",
      "           1     0.9302    0.8333    0.8791        48\n",
      "\n",
      "    accuracy                         0.9083       120\n",
      "   macro avg     0.9132    0.8958    0.9026       120\n",
      "weighted avg     0.9098    0.9083    0.9074       120\n",
      "\n"
     ]
    }
   ],
   "source": [
    "fk=10\n",
    "neigh = KNeighborsClassifier(n_neighbors=fk)\n",
    "neigh.fit(X_train, y_train)\n",
    "preds = neigh.predict(X_test)\n",
    "print(classification_report(y_test,preds,digits=4))"
   ]
  },
  {
   "cell_type": "code",
   "execution_count": 62,
   "id": "12e8d3d2-14d3-462e-9b2f-34d1595e55f0",
   "metadata": {},
   "outputs": [
    {
     "name": "stdout",
     "output_type": "stream",
     "text": [
      "              precision    recall  f1-score   support\n",
      "\n",
      "           0     0.8784    0.9028    0.8904        72\n",
      "           1     0.8478    0.8125    0.8298        48\n",
      "\n",
      "    accuracy                         0.8667       120\n",
      "   macro avg     0.8631    0.8576    0.8601       120\n",
      "weighted avg     0.8662    0.8667    0.8662       120\n",
      "\n"
     ]
    }
   ],
   "source": [
    "fk=1\n",
    "neigh = KNeighborsClassifier(n_neighbors=fk)\n",
    "neigh.fit(X_train, y_train)\n",
    "preds = neigh.predict(X_test)\n",
    "print(classification_report(y_test,preds,digits=4))"
   ]
  },
  {
   "cell_type": "code",
   "execution_count": null,
   "id": "62f60e93-bf34-4e35-86d6-7ab717ce45d6",
   "metadata": {},
   "outputs": [],
   "source": []
  }
 ],
 "metadata": {
  "kernelspec": {
   "display_name": "Python 3",
   "language": "python",
   "name": "python3"
  },
  "language_info": {
   "codemirror_mode": {
    "name": "ipython",
    "version": 3
   },
   "file_extension": ".py",
   "mimetype": "text/x-python",
   "name": "python",
   "nbconvert_exporter": "python",
   "pygments_lexer": "ipython3",
   "version": "3.11.7"
  }
 },
 "nbformat": 4,
 "nbformat_minor": 5
}
