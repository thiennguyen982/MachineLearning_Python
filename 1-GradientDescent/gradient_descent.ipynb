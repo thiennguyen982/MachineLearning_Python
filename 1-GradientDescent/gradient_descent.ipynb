{
 "cells": [
  {
   "cell_type": "code",
   "execution_count": null,
   "metadata": {},
   "outputs": [],
   "source": [
    "# !pip install sympy"
   ]
  },
  {
   "cell_type": "code",
   "execution_count": 42,
   "metadata": {},
   "outputs": [],
   "source": [
    "import sympy as sp\n",
    "import numpy as np\n",
    "import math as m"
   ]
  },
  {
   "cell_type": "code",
   "execution_count": 43,
   "metadata": {},
   "outputs": [],
   "source": [
    "x = sp.Symbol('x')\n",
    "y = sp.Symbol('y')\n",
    "z = sp.Symbol('z')"
   ]
  },
  {
   "cell_type": "code",
   "execution_count": 44,
   "metadata": {},
   "outputs": [],
   "source": [
    "def f(x):\n",
    "    return x**2 - 5*m.sin(x) + 9"
   ]
  },
  {
   "cell_type": "code",
   "execution_count": 45,
   "metadata": {},
   "outputs": [],
   "source": [
    "def Gradient_Descent(alpha=0.01, iterate=500):\n",
    "    x = -4\n",
    "    all_x = []\n",
    "    for i in range(iterate):\n",
    "        gradient = (2*x - 5*m.cos(x))\n",
    "        x_new = x - alpha * gradient\n",
    "        L = f(x_new) - f(x)\n",
    "        if (np.abs(L) <= 1e-6):\n",
    "            break\n",
    "        all_x.append(x)\n",
    "        x = x_new\n",
    "    return x, all_x"
   ]
  },
  {
   "cell_type": "code",
   "execution_count": 46,
   "metadata": {},
   "outputs": [
    {
     "name": "stdout",
     "output_type": "stream",
     "text": [
      "x = 1.1056189445767046\n"
     ]
    }
   ],
   "source": [
    "x = Gradient_Descent(alpha=0.001, iterate=5000)\n",
    "print(\"x =\", x[0])"
   ]
  },
  {
   "attachments": {},
   "cell_type": "markdown",
   "metadata": {},
   "source": [
    "f(x, y) = x^2 + 3*y^2 -5*x +10*y -3 *x *y + 9. Tìm x, y để hàm đạt cực tiểu"
   ]
  },
  {
   "cell_type": "code",
   "execution_count": 47,
   "metadata": {},
   "outputs": [],
   "source": [
    "def f(x, y):\n",
    "    return x**2 + 3*y**2 - 5*x + 10*y -3*x*y + 9"
   ]
  },
  {
   "cell_type": "code",
   "execution_count": 50,
   "metadata": {},
   "outputs": [],
   "source": [
    "def Gradient_Descent_2(function, alpha=0.01, iterate=100000000):\n",
    "    x, y = 50, -10\n",
    "    \n",
    "    # Define symbols\n",
    "    sym_x = sp.Symbol('x')\n",
    "    sym_y = sp.Symbol('y')\n",
    "\n",
    "    # Define the function symbolically\n",
    "    sym_f = function(sym_x, sym_y)\n",
    "\n",
    "    # Compute gradients symbolically\n",
    "    df_dx = sp.diff(sym_f, sym_x)\n",
    "    df_dy = sp.diff(sym_f, sym_y)\n",
    "\n",
    "    # Convert the symbolic expressions to lambdified functions for numerical computation\n",
    "    grad_f_x = sp.lambdify((sym_x, sym_y), df_dx, 'numpy')\n",
    "    grad_f_y = sp.lambdify((sym_x, sym_y), df_dy, 'numpy')\n",
    "    \n",
    "    for i in range(iterate):\n",
    "      # Calculate the gradients using the lambdified functions\n",
    "        gradient_x = grad_f_x(x, y)\n",
    "        gradient_y = grad_f_y(x, y)\n",
    "\n",
    "        # Update x and y using the gradients and the learning rate alpha\n",
    "        x_new = x - alpha * gradient_x\n",
    "        y_new = y - alpha * gradient_y\n",
    "        \n",
    "        L = f(x_new, y_new) - f(x, y)\n",
    "        \n",
    "        if (np.abs(L) <= 1e-6):\n",
    "            break\n",
    "        \n",
    "        x, y = x_new, y_new\n",
    "        \n",
    "    return x, y\n",
    "    "
   ]
  },
  {
   "cell_type": "code",
   "execution_count": 52,
   "metadata": {},
   "outputs": [
    {
     "name": "stdout",
     "output_type": "stream",
     "text": [
      "x = 0.02236330437805552, y = -1.6546981893774078\n"
     ]
    }
   ],
   "source": [
    "x, y = Gradient_Descent_2(f)\n",
    "print(f\"x = {x}, y = {y}\")"
   ]
  },
  {
   "cell_type": "code",
   "execution_count": null,
   "metadata": {},
   "outputs": [],
   "source": []
  }
 ],
 "metadata": {
  "kernelspec": {
   "display_name": "cassandra_app",
   "language": "python",
   "name": "python3"
  },
  "language_info": {
   "codemirror_mode": {
    "name": "ipython",
    "version": 3
   },
   "file_extension": ".py",
   "mimetype": "text/x-python",
   "name": "python",
   "nbconvert_exporter": "python",
   "pygments_lexer": "ipython3",
   "version": "3.10.14"
  },
  "orig_nbformat": 4
 },
 "nbformat": 4,
 "nbformat_minor": 2
}
